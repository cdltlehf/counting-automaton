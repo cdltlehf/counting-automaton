{
 "cells": [
  {
   "cell_type": "code",
   "execution_count": 1,
   "id": "c132e549",
   "metadata": {},
   "outputs": [],
   "source": [
    "import matplotlib.pyplot as plt\n",
    "import pandas as pd\n",
    "import seaborn as sns\n",
    "sns.set_theme(style=\"whitegrid\", palette=\"pastel\")\n",
    "plt.rcParams['text.usetex'] = True\n",
    "# Optional: match font to your LaTeX document\n",
    "plt.rcParams['font.family'] = 'serif'\n",
    "plt.rcParams['text.latex.preamble'] = r'\\usepackage{amsmath}'  # or other LaTeX packages"
   ]
  },
  {
   "cell_type": "code",
   "execution_count": 2,
   "id": "016ee992",
   "metadata": {},
   "outputs": [],
   "source": [
    "attack_durations = pd.read_csv('sparse_counter_config_attack_durations.tsv', delimiter='\\t')\n",
    "random_durations = pd.read_csv('sparse_counter_config_random_durations.tsv', delimiter='\\t')"
   ]
  },
  {
   "cell_type": "code",
   "execution_count": 3,
   "id": "95f45636",
   "metadata": {},
   "outputs": [
    {
     "data": {
      "text/html": [
       "<div>\n",
       "<style scoped>\n",
       "    .dataframe tbody tr th:only-of-type {\n",
       "        vertical-align: middle;\n",
       "    }\n",
       "\n",
       "    .dataframe tbody tr th {\n",
       "        vertical-align: top;\n",
       "    }\n",
       "\n",
       "    .dataframe thead th {\n",
       "        text-align: right;\n",
       "    }\n",
       "</style>\n",
       "<table border=\"1\" class=\"dataframe\">\n",
       "  <thead>\n",
       "    <tr style=\"text-align: right;\">\n",
       "      <th></th>\n",
       "      <th>Regex ID</th>\n",
       "      <th>Normalised attack duration</th>\n",
       "    </tr>\n",
       "  </thead>\n",
       "  <tbody>\n",
       "    <tr>\n",
       "      <th>count</th>\n",
       "      <td>9667.000000</td>\n",
       "      <td>9667.000000</td>\n",
       "    </tr>\n",
       "    <tr>\n",
       "      <th>mean</th>\n",
       "      <td>13897.592118</td>\n",
       "      <td>0.008780</td>\n",
       "    </tr>\n",
       "    <tr>\n",
       "      <th>std</th>\n",
       "      <td>8010.125600</td>\n",
       "      <td>0.007509</td>\n",
       "    </tr>\n",
       "    <tr>\n",
       "      <th>min</th>\n",
       "      <td>1.000000</td>\n",
       "      <td>0.002322</td>\n",
       "    </tr>\n",
       "    <tr>\n",
       "      <th>25%</th>\n",
       "      <td>7067.000000</td>\n",
       "      <td>0.005351</td>\n",
       "    </tr>\n",
       "    <tr>\n",
       "      <th>50%</th>\n",
       "      <td>13926.000000</td>\n",
       "      <td>0.005560</td>\n",
       "    </tr>\n",
       "    <tr>\n",
       "      <th>75%</th>\n",
       "      <td>20797.000000</td>\n",
       "      <td>0.009381</td>\n",
       "    </tr>\n",
       "    <tr>\n",
       "      <th>max</th>\n",
       "      <td>27931.000000</td>\n",
       "      <td>0.170494</td>\n",
       "    </tr>\n",
       "  </tbody>\n",
       "</table>\n",
       "</div>"
      ],
      "text/plain": [
       "           Regex ID  Normalised attack duration\n",
       "count   9667.000000                 9667.000000\n",
       "mean   13897.592118                    0.008780\n",
       "std     8010.125600                    0.007509\n",
       "min        1.000000                    0.002322\n",
       "25%     7067.000000                    0.005351\n",
       "50%    13926.000000                    0.005560\n",
       "75%    20797.000000                    0.009381\n",
       "max    27931.000000                    0.170494"
      ]
     },
     "execution_count": 3,
     "metadata": {},
     "output_type": "execute_result"
    }
   ],
   "source": [
    "attack_durations.describe()"
   ]
  },
  {
   "cell_type": "code",
   "execution_count": 4,
   "id": "d2024a12",
   "metadata": {},
   "outputs": [
    {
     "data": {
      "text/html": [
       "<div>\n",
       "<style scoped>\n",
       "    .dataframe tbody tr th:only-of-type {\n",
       "        vertical-align: middle;\n",
       "    }\n",
       "\n",
       "    .dataframe tbody tr th {\n",
       "        vertical-align: top;\n",
       "    }\n",
       "\n",
       "    .dataframe thead th {\n",
       "        text-align: right;\n",
       "    }\n",
       "</style>\n",
       "<table border=\"1\" class=\"dataframe\">\n",
       "  <thead>\n",
       "    <tr style=\"text-align: right;\">\n",
       "      <th></th>\n",
       "      <th>Regex ID</th>\n",
       "      <th>Mean normalised matching duration</th>\n",
       "    </tr>\n",
       "  </thead>\n",
       "  <tbody>\n",
       "    <tr>\n",
       "      <th>count</th>\n",
       "      <td>26759.000000</td>\n",
       "      <td>26759.000000</td>\n",
       "    </tr>\n",
       "    <tr>\n",
       "      <th>mean</th>\n",
       "      <td>14217.607908</td>\n",
       "      <td>0.037182</td>\n",
       "    </tr>\n",
       "    <tr>\n",
       "      <th>std</th>\n",
       "      <td>8203.850978</td>\n",
       "      <td>0.461043</td>\n",
       "    </tr>\n",
       "    <tr>\n",
       "      <th>min</th>\n",
       "      <td>1.000000</td>\n",
       "      <td>0.000000</td>\n",
       "    </tr>\n",
       "    <tr>\n",
       "      <th>25%</th>\n",
       "      <td>7119.500000</td>\n",
       "      <td>0.022904</td>\n",
       "    </tr>\n",
       "    <tr>\n",
       "      <th>50%</th>\n",
       "      <td>14220.000000</td>\n",
       "      <td>0.030555</td>\n",
       "    </tr>\n",
       "    <tr>\n",
       "      <th>75%</th>\n",
       "      <td>21310.500000</td>\n",
       "      <td>0.038510</td>\n",
       "    </tr>\n",
       "    <tr>\n",
       "      <th>max</th>\n",
       "      <td>28432.000000</td>\n",
       "      <td>74.312681</td>\n",
       "    </tr>\n",
       "  </tbody>\n",
       "</table>\n",
       "</div>"
      ],
      "text/plain": [
       "           Regex ID  Mean normalised matching duration\n",
       "count  26759.000000                       26759.000000\n",
       "mean   14217.607908                           0.037182\n",
       "std     8203.850978                           0.461043\n",
       "min        1.000000                           0.000000\n",
       "25%     7119.500000                           0.022904\n",
       "50%    14220.000000                           0.030555\n",
       "75%    21310.500000                           0.038510\n",
       "max    28432.000000                          74.312681"
      ]
     },
     "execution_count": 4,
     "metadata": {},
     "output_type": "execute_result"
    }
   ],
   "source": [
    "random_durations.describe()"
   ]
  },
  {
   "cell_type": "code",
   "execution_count": 5,
   "id": "17efcb4c",
   "metadata": {},
   "outputs": [],
   "source": [
    "combined = pd.merge(random_durations, attack_durations, on='Regex ID')"
   ]
  },
  {
   "cell_type": "code",
   "execution_count": 6,
   "id": "cadf7ce8",
   "metadata": {},
   "outputs": [],
   "source": [
    "combined['Slowdown'] = combined['Normalised attack duration'] / combined['Mean normalised matching duration']"
   ]
  },
  {
   "cell_type": "code",
   "execution_count": 7,
   "id": "c63a8a4f",
   "metadata": {},
   "outputs": [
    {
     "data": {
      "image/png": "[encoded data removed]",
      "text/plain": [
       "<Figure size 640x480 with 1 Axes>"
      ]
     },
     "metadata": {},
     "output_type": "display_data"
    }
   ],
   "source": [
    "sns.scatterplot(data=combined, x='Mean normalised matching duration', y='Normalised attack duration')\n",
    "plt.savefig('duration-scatterplot.png')"
   ]
  },
  {
   "cell_type": "code",
   "execution_count": 8,
   "id": "fe12589b",
   "metadata": {},
   "outputs": [],
   "source": [
    "import numpy as np\n",
    "combined['Slowdown'] = combined['Slowdown'].replace([np.inf, -np.inf], np.nan)"
   ]
  },
  {
   "cell_type": "code",
   "execution_count": 11,
   "id": "41cccd5d",
   "metadata": {},
   "outputs": [
    {
     "data": {
      "image/png": "[encoded data removed]",
      "text/plain": [
       "<Figure size 640x480 with 1 Axes>"
      ]
     },
     "metadata": {},
     "output_type": "display_data"
    }
   ],
   "source": [
    "sns.histplot(data=combined, x='Slowdown')\n",
    "max_slowdown = max(combined['Slowdown'])\n",
    "plt.axvline(x=max_slowdown, color='red', linestyle='--', label='Max slowdown')\n",
    "plt.legend()\n",
    "plt.savefig('slowdown-histplot.png')"
   ]
  },
  {
   "cell_type": "code",
   "execution_count": null,
   "id": "7c108f84",
   "metadata": {},
   "outputs": [],
   "source": []
  }
 ],
 "metadata": {
  "kernelspec": {
   "display_name": ".venv",
   "language": "python",
   "name": "python3"
  },
  "language_info": {
   "codemirror_mode": {
    "name": "ipython",
    "version": 3
   },
   "file_extension": ".py",
   "mimetype": "text/x-python",
   "name": "python",
   "nbconvert_exporter": "python",
   "pygments_lexer": "ipython3",
   "version": "3.13.3"
  }
 },
 "nbformat": 4,
 "nbformat_minor": 5
}
